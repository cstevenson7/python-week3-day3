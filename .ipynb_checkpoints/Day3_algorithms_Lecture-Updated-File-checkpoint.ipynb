{
 "cells": [
  {
   "cell_type": "markdown",
   "metadata": {},
   "source": [
    "# Algorithms, Binary Search & Linked Lists"
   ]
  },
  {
   "cell_type": "markdown",
   "metadata": {},
   "source": [
    "## Tasks Today:\n",
    " \n",
    "1) <b>In-Place Algorithms</b> <br>\n",
    " &nbsp;&nbsp;&nbsp;&nbsp; a) Syntax <br>\n",
    " &nbsp;&nbsp;&nbsp;&nbsp; a) Out of Place Algorithm <br>\n",
    " &nbsp;&nbsp;&nbsp;&nbsp; b) In-Class Exercise #1 <br>\n",
    "2) <b>Two Pointers</b> <br>\n",
    "3) <b>Linked Lists</b> <br>\n",
    "4) <b>Merge Sort</b> <br>\n",
    " &nbsp;&nbsp;&nbsp;&nbsp; a) Video on Algorithms <br>\n",
    " &nbsp;&nbsp;&nbsp;&nbsp; b) How it Works <br>\n",
    "5) <b>Exercises</b> <br>\n",
    " &nbsp;&nbsp;&nbsp;&nbsp; a) Exercise #1 - Reverse a List in Place Using an In-Place Algorithm <br>\n",
    " &nbsp;&nbsp;&nbsp;&nbsp; b) Exercise #2 - Find Distinct Words <br>\n",
    " &nbsp;&nbsp;&nbsp;&nbsp; c) Exercise #3 - Write a program to implement a Linear Search Algorithm. <br>"
   ]
  },
  {
   "cell_type": "markdown",
   "metadata": {},
   "source": [
    "## In-Place Algorithms"
   ]
  },
  {
   "cell_type": "markdown",
   "metadata": {},
   "source": [
    "#### Syntax"
   ]
  },
  {
   "cell_type": "code",
   "execution_count": 1,
   "metadata": {},
   "outputs": [
    {
     "name": "stdout",
     "output_type": "stream",
     "text": [
      "[20, 4, 10]\n",
      "[10, 4, 20]\n"
     ]
    }
   ],
   "source": [
    "#done at the same spot in memory everytime\n",
    "#var[1], var[i+1] = var[i+1], var[i]\n",
    "#aka swap algorithm\n",
    "\n",
    "def swap (alist, x,y,z):\n",
    "    alist[x],alist[y],alist[z] = alist[z],alist[y],alist[x]\n",
    "    return alist\n",
    "\n",
    "my_list = [20,4,10]\n",
    "print(my_list)\n",
    "\n",
    "swap(my_list,0,1,2)\n",
    "print(my_list)\n",
    "        \n",
    "    \n"
   ]
  },
  {
   "cell_type": "markdown",
   "metadata": {},
   "source": [
    "#### Out of Place Algorithm"
   ]
  },
  {
   "cell_type": "code",
   "execution_count": 2,
   "metadata": {},
   "outputs": [
    {
     "data": {
      "text/plain": [
       "[20, 4, 10]"
      ]
     },
     "execution_count": 2,
     "metadata": {},
     "output_type": "execute_result"
    }
   ],
   "source": [
    "#in Python easy but  - not swapping, but rather reversing completely, BUT also copies to another place in memory\n",
    "my_list[::-1] # this reverses the list but it has space overhead\n"
   ]
  },
  {
   "cell_type": "markdown",
   "metadata": {},
   "source": [
    "#### In-Class Exercise #1 <br>\n",
    "<p>Write a function that takes in four arguments (list, index1, index2, index3), and swaps those three positions in the list passed in.</p>"
   ]
  },
  {
   "cell_type": "code",
   "execution_count": 3,
   "metadata": {},
   "outputs": [
    {
     "name": "stdout",
     "output_type": "stream",
     "text": [
      "[10, 4, 3, 8, 4, 2, 6]\n",
      "[10, 4, 3, 8, 6, 2, 4]\n"
     ]
    }
   ],
   "source": [
    "l_l = [10, 4, 3, 8, 4, 2, 6]\n",
    "#The swaps do not have to be consecutive number in the list\n",
    "\n",
    "def swap(l_l, x,y,z):\n",
    "    print(l_l)\n",
    "    l_l[x], l_l[y], l_l[z] = l_l[z], l_l[y], l_l[x]\n",
    "    return l_l\n",
    "\n",
    "print(swap(l_l,4,2,6))\n",
    "\n",
    "#Out of place swap,swaping back to front - confusing?? this not one to one and not recommended for this use case\n",
    "# print(l_l[::-1])\n",
    "# print(l_l[::-2])\n",
    "\n"
   ]
  },
  {
   "cell_type": "markdown",
   "metadata": {},
   "source": [
    "## Two Pointers"
   ]
  },
  {
   "cell_type": "markdown",
   "metadata": {},
   "source": [
    "#### Syntax"
   ]
  },
  {
   "cell_type": "code",
   "execution_count": 4,
   "metadata": {},
   "outputs": [
    {
     "data": {
      "text/plain": [
       "[22, 11, 4, 8, 9, 12, 3, 2, 1]"
      ]
     },
     "execution_count": 4,
     "metadata": {},
     "output_type": "execute_result"
    }
   ],
   "source": [
    "#Use variables like pointers. There are no native pointers. A pointer will point to a value inside of memory\n",
    "\n",
    "## alist[left],alist[right] = alist[right], alist[left]\n",
    "#use pointers to swap, can use a while loop in most casees\n",
    "\n",
    "def twoPointers(alist):\n",
    "    #create pointes for the list below:\n",
    "    left = 0  # this is our firsat index\n",
    "    right = len(alist) -1  # this is the vert lase index\n",
    "    \n",
    "    while left <= right:\n",
    "        alist[left],alist[right] = alist[right], alist[left]\n",
    "        left +=1\n",
    "        right -= 1\n",
    "        \n",
    "    return alist\n",
    "\n",
    "my_list2 = [1,2,3,12,9,8,4,11,22]\n",
    "twoPointers(my_list2) \n",
    "\n",
    "#swap 1 andd 22, 2 and 11, 3 and 4, 12 and8,  once we are in the middle whuch id 9 and left is > right so stop"
   ]
  },
  {
   "cell_type": "markdown",
   "metadata": {},
   "source": [
    "#### Video of Algorithms <br>\n",
    "<p>Watch the video about algorithms.</p>\n",
    "\n",
    "https://www.youtube.com/watch?v=Q9HjeFD62Uk\n",
    "\n",
    "https://www.youtube.com/watch?v=kPRA0W1kECg\n",
    "\n",
    "https://www.youtube.com/watch?v=ZZuD6iUe3Pc"
   ]
  },
  {
   "cell_type": "markdown",
   "metadata": {},
   "source": [
    "# Sorting Algorithms"
   ]
  },
  {
   "cell_type": "markdown",
   "metadata": {},
   "source": [
    "#### Bubble Sort\n",
    "\n",
    "Worst Case: O(n^2) Time - O(1) Space"
   ]
  },
  {
   "cell_type": "code",
   "execution_count": 5,
   "metadata": {},
   "outputs": [
    {
     "data": {
      "text/plain": [
       "[5, 6, 7, 10, 20, 20, 50]"
      ]
     },
     "execution_count": 5,
     "metadata": {},
     "output_type": "execute_result"
    }
   ],
   "source": [
    "#usually use a while loop ina bubble sort, best case for this type of sort would be linear O(n) -\n",
    "\n",
    "#Helper function first\n",
    "def swap(i,j,array):\n",
    "    array[i], array[j] = array[j], array[i] # these are index umbersa\n",
    "    \n",
    "    \n",
    "def bubbleSort(array):\n",
    "    #Flag or pointer to confim sort\n",
    "    isSorted = False\n",
    "    while not isSorted:  #This means while Is sorted is True , but we cant; use it here# we need to go through this loop at least once to se if the list is sorted      \n",
    "        isSorted = True   # we need this to catch when the array has been sorted. See comments below\n",
    "        for num in range(len(array)-1):   #num is index and len(array)-1 is the last index number\n",
    "            if array[num] > array[num+1]:\n",
    "                swap(num, num+1, array)\n",
    "                isSorted = False\n",
    "    return array\n",
    "\n",
    "bubbleSort([20,20,50,7,6,5,10])\n",
    "\n",
    "\n",
    "#Once the array has sorted once gone through the for loop the isSorted value is false, \n",
    " \n",
    "    "
   ]
  },
  {
   "cell_type": "markdown",
   "metadata": {},
   "source": [
    "##### Insertion Sort\n",
    "\n",
    "Worst Case: O(n^2) time - O(1)space"
   ]
  },
  {
   "cell_type": "code",
   "execution_count": 12,
   "metadata": {},
   "outputs": [
    {
     "name": "stdout",
     "output_type": "stream",
     "text": [
      "[1, 2, 10, 30, 50]\n"
     ]
    }
   ],
   "source": [
    "# also a swapping sort,  this inserts the values inits correct place instead of keeping it bubbeling up\n",
    "\n",
    "#Helper function first\n",
    "def swap(i,j,array):\n",
    "    array[i], array[j] = array[j], array[i] \n",
    "    \n",
    "def insertionSort(array):\n",
    "    for i in range(1,len(array)):  #Not -1   start at index1 (lookin at the vaue first NEXT to the first number and using the lenght of the array no the incex numbeer\n",
    "       #in the arraythis time going past the array\n",
    "        j = i  #poiunter as a placeholder not we can increemtn i \n",
    "        while j > 0 and array[j] < array[j-1]:   #looking backward\n",
    "            swap(j, j-1, array)\n",
    "            j-=1\n",
    "    return array\n",
    "print\n",
    "print(insertionSort([10,50,30,2,1]))\n",
    "            \n",
    "            "
   ]
  },
  {
   "cell_type": "markdown",
   "metadata": {},
   "source": [
    "## Merge Sort"
   ]
  },
  {
   "cell_type": "markdown",
   "metadata": {},
   "source": [
    "#### How it Works"
   ]
  },
  {
   "cell_type": "code",
   "execution_count": 16,
   "metadata": {},
   "outputs": [
    {
     "name": "stdout",
     "output_type": "stream",
     "text": [
      "Splitting... [4, 2, 16, 2, 7]\n",
      "Splitting... [4, 2]\n",
      "Splitting... [4]\n",
      "Merging:  [4]\n",
      "Splitting... [2]\n",
      "Merging:  [2]\n",
      "Merging:  [2, 4]\n",
      "Splitting... [16, 2, 7]\n",
      "Splitting... [16]\n",
      "Merging:  [16]\n",
      "Splitting... [2, 7]\n",
      "Splitting... [2]\n",
      "Merging:  [2]\n",
      "Splitting... [7]\n",
      "Merging:  [7]\n",
      "Merging:  [2, 7]\n",
      "Merging:  [2, 7, 16]\n",
      "Merging:  [2, 2, 4, 7, 16]\n"
     ]
    },
    {
     "data": {
      "text/plain": [
       "[2, 2, 4, 7, 16]"
      ]
     },
     "execution_count": 16,
     "metadata": {},
     "output_type": "execute_result"
    }
   ],
   "source": [
    "# step1: Sptint everything into its own group\n",
    "# step2 From left to right merge two groups togehter\n",
    "# step3 while merging place each item in the correct position with in the merged group\n",
    "# step4 Contine steps 3-4 until one group is left\n",
    "\n",
    "from random import randint\n",
    "#used to genetate list of 5 numbers from 0 - 20\n",
    "\n",
    "nums = [randint(0,20) for i in range(5)]\n",
    "\n",
    "#write merge sort below\n",
    "def mergeSort(alist):\n",
    "    print(\"Splitting...\", alist)\n",
    "    # Step1: Divide and conquer divide into two listts into 2 equal halves until both have a length of 1\n",
    "    if len(alist) > 1:\n",
    "        mid = len(alist) // 2 # no remainder do one half would be 2 one would be two This is the midpoint of the array\n",
    "        lefthalf = alist[:mid]\n",
    "        righthalf = alist[mid:]\n",
    "        \n",
    "        mergeSort(lefthalf) # keep splitting until we get to a list witha length of one. Do lefthalf first , \n",
    "        mergeSort(righthalf) # then do the righthalf \n",
    "        \n",
    "        #index pointers for our list\n",
    "        i = 0\n",
    "        j = 0\n",
    "        k = 0\n",
    "        \n",
    "        #Step2 Compare lefthalf  and righthalf \n",
    "        while i < len(lefthalf) and j < len(righthalf):\n",
    "            if lefthalf[i] < righthalf[j]:   #this is where  we start comapring numbers\n",
    "                alist[k] = lefthalf[i]\n",
    "                i = i + 1    #increment and start process all over again           \n",
    "            else:\n",
    "                alist[k] = righthalf[j]\n",
    "                j = j + 1            \n",
    "            k = k + 1\n",
    "            \n",
    "        #Step3\n",
    "        while i < len(lefthalf):\n",
    "            alist[k] = lefthalf[i]\n",
    "            i = i + 1\n",
    "            k = k + 1\n",
    "        while j < len(righthalf):\n",
    "            alist[k] = righthalf[j]\n",
    "            j = j + 1\n",
    "            k = k + 1\n",
    "    \n",
    "    print(\"Merging: \", alist)  \n",
    "    return alist\n",
    "            \n",
    "mergeSort(nums)   "
   ]
  },
  {
   "cell_type": "markdown",
   "metadata": {},
   "source": [
    "# Binary Search\n",
    "\n",
    "The Binary Search algorithm works by finding the number in the middle of a given array and comparing it to the target. Given that the array is sorted\n",
    "\n",
    "* The worst case run time for this algorithm is `O(log(n))`"
   ]
  },
  {
   "cell_type": "code",
   "execution_count": 28,
   "metadata": {},
   "outputs": [
    {
     "data": {
      "text/plain": [
       "'The index is...2'"
      ]
     },
     "execution_count": 28,
     "metadata": {},
     "output_type": "execute_result"
    }
   ],
   "source": [
    "#works like merge sort a divide and conquer scenario.\n",
    "\n",
    "def binarySearchHelper(array, target,left, right):\n",
    "    while left <= right:\n",
    "        middle = (left + right)// 2\n",
    "        potentialMatch = array[middle]\n",
    "        if target == potentialMatch:\n",
    "            return f\"The index is...{middle}\"\n",
    "        elif target < potentialMatch :\n",
    "            right - middle - 1\n",
    "        else:\n",
    "            left = middle + 1\n",
    "    return -1\n",
    "\n",
    "\n",
    "def binarySearch(array, target):\n",
    "    return binarySearchHelper(array,target,0,len(array) -1)\n",
    "binarySearch([1,5,23,111], 23)\n",
    "            \n",
    "\n"
   ]
  },
  {
   "cell_type": "markdown",
   "metadata": {},
   "source": [
    "# Exercises"
   ]
  },
  {
   "cell_type": "markdown",
   "metadata": {},
   "source": [
    "### Exercise #1 <br>\n",
    "<p>Reverse the list below in-place using an in-place algorithm.<br>For extra credit: Reverse the strings at the same time.</p>"
   ]
  },
  {
   "cell_type": "code",
   "execution_count": 24,
   "metadata": {},
   "outputs": [
    {
     "name": "stdout",
     "output_type": "stream",
     "text": [
      "['.', 'ecnetnes', 'a', 'si', 'siht']\n"
     ]
    }
   ],
   "source": [
    "words = ['this' , 'is', 'a', 'sentence', '.']\n",
    "#print(words)\n",
    "\n",
    "def swap(alist,a,b,c,d,e):\n",
    "    alist[a],alist[b],alist[c],alist[d], alist[e] = alist[e][::-1],alist[d][::-1],alist[c][::-1], alist[b][::-1], alist[a][::-1]\n",
    "    return alist\n",
    "\n",
    "print(swap(words,0,1,2,3,4))\n",
    "\n",
    "\n",
    "\n",
    "\n",
    "\n"
   ]
  },
  {
   "cell_type": "code",
   "execution_count": null,
   "metadata": {},
   "outputs": [],
   "source": [
    "### Exercise #2 <br>\n",
    "#Create a function that counts how many distinct words are in the string below.\n",
    "#Then outputs a dictionary with the words as the key and the value as the amount of times\n",
    "#that word appears in the string.<br>\n",
    "\n",
    "\n"
   ]
  },
  {
   "cell_type": "code",
   "execution_count": 2,
   "metadata": {},
   "outputs": [
    {
     "name": "stdout",
     "output_type": "stream",
     "text": [
      "a  :  5\n",
      "abstract  :  1\n",
      "an  :  3\n",
      "array  :  2\n",
      "associative  :  1\n",
      "be  :  1\n",
      "buckets  :  1\n",
      "can  :  2\n",
      "compute  :  1\n",
      "computing  :  1\n",
      "data  :  2\n",
      "desired  :  1\n",
      "found  :  1\n",
      "from  :  1\n",
      "function  :  1\n",
      "hash  :  4\n",
      "implements  :  1\n",
      "in  :  1\n",
      "index  :  1\n",
      "into  :  1\n",
      "is  :  1\n",
      "keys  :  1\n",
      "map  :  2\n",
      "of  :  1\n",
      "or  :  1\n",
      "slots  :  1\n",
      "structure  :  2\n",
      "table  :  2\n",
      "that  :  1\n",
      "the  :  1\n",
      "to  :  2\n",
      "type  :  1\n",
      "uses  :  1\n",
      "value  :  1\n",
      "values  :  1\n",
      "which  :  2\n"
     ]
    }
   ],
   "source": [
    "import re\n",
    "\n",
    "a_text = 'In computing, a hash table hash map is a data structure which implements an associative array abstract data type, a structure that can map keys to values. A hash table uses a hash function to compute an index into an array of buckets or slots from which the desired value can be found'\n",
    "\n",
    "def distinctWords(a_text):\n",
    "    #take out all punctation from string\n",
    "    str1 = re.sub(r'[,.:@#?!&$]', '', a_text)  \n",
    "    word_dict = {}\n",
    "    word_list = str1.lower().split()               \n",
    "    word_list.sort()\n",
    "   \n",
    "    for word in (word_list):\n",
    "        if word.lower() not in word_dict:\n",
    "            word_dict[word.lower()] = 1\n",
    "        else:        \n",
    "            word_dict[word.lower()]+=1                \n",
    "\n",
    "    for key, value in word_dict.items():\n",
    "         print(key, ' : ', value) \n",
    "            \n",
    "            \n",
    "distinctWords(a_text)  \n",
    "        \n",
    "        \n"
   ]
  },
  {
   "cell_type": "markdown",
   "metadata": {},
   "source": [
    "## Exercise #3\n",
    "\n",
    "Write a program to implement a Linear Search Algorithm. Also in a comment, write the Time Complexity of the following algorithm.\n",
    "\n",
    "#### Hint: Linear Searching will require searching a list for a given number. "
   ]
  },
  {
   "cell_type": "code",
   "execution_count": 90,
   "metadata": {},
   "outputs": [
    {
     "name": "stdout",
     "output_type": "stream",
     "text": [
      "This linear algorithm has a time complexity of O(n) which is good, however the longer the array the longer the runtime. \n",
      "\n",
      "The target number 70 can be found at index 3 on the array\n"
     ]
    }
   ],
   "source": [
    "nums_list = [10,23,45,70,11,15]\n",
    "target = 70\n",
    "#return -1 if target is no found\n",
    "\n",
    "#list_name.index(element, start, end)\n",
    "\n",
    "\n",
    "def linear_algo(nums_list,target): \n",
    "    print(\"This linear algorithm has a time complexity of O(n) which is good, however the longer the array the longer the runtime. \")\n",
    "    for num in nums_list:    \n",
    "        if num == target:\n",
    "            num_index = nums_list.index(num)\n",
    "            return (f\"\\nThe target number {target} can be found at index {num_index} on the array\")\n",
    "      \n",
    "    return -1\n",
    "\n",
    "print(linear_algo(nums_list,target))"
   ]
  }
 ],
 "metadata": {
  "kernelspec": {
   "display_name": "Python 3",
   "language": "python",
   "name": "python3"
  },
  "language_info": {
   "codemirror_mode": {
    "name": "ipython",
    "version": 3
   },
   "file_extension": ".py",
   "mimetype": "text/x-python",
   "name": "python",
   "nbconvert_exporter": "python",
   "pygments_lexer": "ipython3",
   "version": "3.7.6"
  }
 },
 "nbformat": 4,
 "nbformat_minor": 2
}
